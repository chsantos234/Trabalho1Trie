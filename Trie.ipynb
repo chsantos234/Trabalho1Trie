{
  "cells": [
    {
      "cell_type": "markdown",
      "source": [
        "# Árvore Trie\n",
        "\n",
        "Implementação das classes de Nó (Node) e Árvore (Trie) e suas funções de busca, adição e remoção."
      ],
      "metadata": {
        "id": "T3_DRGfXLk2j"
      }
    },
    {
      "cell_type": "code",
      "source": [
        "class Node:\n",
        "    def __init__(self, key=None, data=None):\n",
        "        self.key = key           # Chave armazenada\n",
        "        self.data = data         # Dados da palavra (detecta o caractere final da palavra)\n",
        "        self.children = dict()   # Filhos do Nó\n",
        "    \n",
        "    def add_child(self, key, data=None):\n",
        "        \"\"\"\n",
        "        Adiciona um novo filho a um nó\n",
        "        \"\"\"\n",
        "        if not isinstance(key, Node):\n",
        "            self.children[key] = Node(key, data)\n",
        "        else:\n",
        "            self.children[key.label] = key"
      ],
      "metadata": {
        "id": "hUDGyco47H6p"
      },
      "execution_count": 11,
      "outputs": []
    },
    {
      "cell_type": "code",
      "execution_count": 12,
      "metadata": {
        "id": "UY5QqEIxfGcn"
      },
      "outputs": [],
      "source": [
        "class Trie:\n",
        "    def __init__(self):\n",
        "        self.head = Node()  # Nó raiz vazio\n",
        "\n",
        "    def insert_word(self, word):\n",
        "        \"\"\"\n",
        "        Insere uma nova palavra a árvore\n",
        "        \"\"\"\n",
        "        if self.search_word(word): # Busca e retorna a palavra caso já exista na árvore\n",
        "            print(f'A palavra \"{word}\" já está presente na árvore.')\n",
        "            return\n",
        "        \n",
        "        current_node = self.head\n",
        "        word_end = True\n",
        "        \n",
        "        for i in range(len(word)):\n",
        "            if word[i] in current_node.children:\n",
        "                current_node = current_node.children[word[i]] \n",
        "            else:\n",
        "                word_end = False\n",
        "                break\n",
        "        \n",
        "        if not word_end: # Adiciona o restande dos caracteres no fim de sua sub-árvore\n",
        "            while i < len(word):\n",
        "                current_node.add_child(word[i])\n",
        "                current_node = current_node.children[word[i]]\n",
        "                i += 1\n",
        "        \n",
        "        current_node.data = word # O nó final da palavra recebe os caracteres da palavra\n",
        "    \n",
        "    def insert_words(self, words: str):\n",
        "        \"\"\"\n",
        "        Insere uma lista de palavras a árvore\n",
        "        \"\"\"\n",
        "        for word in words.split():\n",
        "            self.insert_word(word)\n",
        "   \n",
        "    def search_word(self, word: str):\n",
        "        \"\"\"\n",
        "        Retorna um booleano da busca de uma palavra válida na árvore \n",
        "        \"\"\"\n",
        "        if not isinstance(word, str):\n",
        "            raise ValueError('Insira uma palavra válida.')\n",
        "        \n",
        "        if word == '':\n",
        "            return False\n",
        "        \n",
        "\n",
        "        current_node = self.head\n",
        "        exists = True\n",
        "        \n",
        "        for letter in word: # Itera sobre os filhos da raiz na busca da palavra\n",
        "            if letter in current_node.children:\n",
        "                current_node = current_node.children[letter]\n",
        "            else:\n",
        "                exists = False\n",
        "                break\n",
        "        \n",
        "        if exists and (not current_node.data):\n",
        "            exists = False # Retorna false caso os caracteres estejam na árvore\n",
        "                           # mas a indicação da adição da palavra não\n",
        "        \n",
        "        return exists\n",
        "\n",
        "    def remove_word(self, word: str):\n",
        "        \"\"\"\n",
        "        Remove uma palavra válida da árvore\n",
        "        \"\"\"\n",
        "        if word == '':\n",
        "            return False\n",
        "        if not word:\n",
        "            raise ValueError('Insira uma palavra válida.')\n",
        "\n",
        "        current_node = self.head\n",
        "        exists = True\n",
        "        \n",
        "        for letter in word: # Busca a palavra iterando sobre os filhos do nó atual\n",
        "            if letter in current_node.children:\n",
        "                current_node = current_node.children[letter]\n",
        "            else:\n",
        "                exists = False\n",
        "                break\n",
        "        \n",
        "        if exists:\n",
        "            current_node.data = None\n",
        "   \n",
        "    \n",
        "    def print_word(self, root=None):\n",
        "        \"\"\"\n",
        "        Retorna todas as palavras da árvore em uma lista\n",
        "        \"\"\"\n",
        "        if root is None:\n",
        "            root = self.head\n",
        "                \n",
        "        words=[]\n",
        "\n",
        "        if root.data is not None:\n",
        "            words.append(root.data)\n",
        "                \n",
        "        if root.children:\n",
        "            for i in sorted(root.children.values(), key=lambda x: x.key): # Armazena e ordena as palavras na árvore\n",
        "                words.extend(self.print_word(i))\n",
        "\n",
        "        return words"
      ]
    },
    {
      "cell_type": "code",
      "source": [
        "if __name__ == '__main__':\n",
        "    # Instanciação do objeto:\n",
        "    trie = Trie()\n",
        "\n",
        "    # Inserção múltipla\n",
        "    words = \"terra terreno terraço inteligência inteligência algoritmo algorítmico algo\"\n",
        "    trie.insert_words(words)\n",
        "\n",
        "    # Retorno de todas as palavras\n",
        "    print(trie.print_word())\n",
        "\n",
        "    # Inserção única\n",
        "    trie.insert_words(\"terra\")\n",
        "\n",
        "    # Busca de palavra única\n",
        "    print(trie.search_word(\"terreno\"))\n",
        "    print(trie.search_word(\"programação\"))\n",
        "\n",
        "    # Remoção\n",
        "    trie.remove_word(\"terra\")\n",
        "\n",
        "    print(trie.search_word(\"terra\"))\n",
        "    print(trie.print_word())"
      ],
      "metadata": {
        "colab": {
          "base_uri": "https://localhost:8080/"
        },
        "id": "rr-lZpLX7NNI",
        "outputId": "57a05d20-d8c5-4bb1-83d9-802e73bd780b"
      },
      "execution_count": 13,
      "outputs": [
        {
          "output_type": "stream",
          "name": "stdout",
          "text": [
            "A palavra \"inteligência\" já está presente na árvore.\n",
            "['algo', 'algoritmo', 'algorítmico', 'inteligência', 'terra', 'terraço', 'terreno']\n",
            "A palavra \"terra\" já está presente na árvore.\n",
            "True\n",
            "False\n",
            "False\n",
            "['algo', 'algoritmo', 'algorítmico', 'inteligência', 'terraço', 'terreno']\n"
          ]
        }
      ]
    }
  ],
  "metadata": {
    "colab": {
      "collapsed_sections": [],
      "provenance": []
    },
    "kernelspec": {
      "display_name": "Python 3",
      "name": "python3"
    },
    "language_info": {
      "name": "python"
    }
  },
  "nbformat": 4,
  "nbformat_minor": 0
}